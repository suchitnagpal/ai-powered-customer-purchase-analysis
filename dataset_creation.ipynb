{
 "cells": [
  {
   "cell_type": "markdown",
   "metadata": {},
   "source": [
    "# Synthetic Dataset Creation\n",
    "This notebook generates a synthetic dataset of customer purchases for retail scenario.\n",
    "The csv is created to have the following columns: Customer ID, Product ID, Product Category, Purchase Amount, Purchase Date\n"
   ]
  },
  {
   "cell_type": "markdown",
   "metadata": {},
   "source": [
    "1. Import Necessary Libraries"
   ]
  },
  {
   "cell_type": "code",
   "execution_count": 4,
   "metadata": {},
   "outputs": [],
   "source": [
    "import csv\n",
    "import random\n",
    "import os\n",
    "from datetime import datetime, timedelta"
   ]
  },
  {
   "cell_type": "markdown",
   "metadata": {},
   "source": [
    "2. Generate Products\n",
    "\n",
    "    Create 50 products across 5 categories."
   ]
  },
  {
   "cell_type": "code",
   "execution_count": 2,
   "metadata": {},
   "outputs": [],
   "source": [
    "def generate_products():\n",
    "    \"\"\"Generate 50 products across 5 categories.\"\"\"\n",
    "    categories = [\"Electronics\", \"Clothing\", \"Home & Kitchen\", \"Books\", \"Sports\"]\n",
    "    products = []\n",
    "    product_id = 1\n",
    "    \n",
    "    for category in categories:\n",
    "        for _ in range(10):  # 10 products per category\n",
    "            products.append({\n",
    "                \"Product ID\": f\"P{product_id}\",\n",
    "                \"Category\": category\n",
    "            })\n",
    "            product_id += 1\n",
    "    return products\n"
   ]
  },
  {
   "cell_type": "markdown",
   "metadata": {},
   "source": [
    "3. Generate Customers\n",
    "\n",
    "    Create 500 customer IDs (C1 to C500)."
   ]
  },
  {
   "cell_type": "code",
   "execution_count": 5,
   "metadata": {},
   "outputs": [],
   "source": [
    "def generate_customers():\n",
    "    \"\"\"Generate 500 customer IDs (C1 to C500).\"\"\"\n",
    "    return [f\"C{i}\" for i in range(1, 501)]"
   ]
  },
  {
   "cell_type": "markdown",
   "metadata": {},
   "source": [
    "4. Generate Random Dates\n",
    "    \n",
    "    Generate random dates between two dates."
   ]
  },
  {
   "cell_type": "code",
   "execution_count": 6,
   "metadata": {},
   "outputs": [],
   "source": [
    "def random_date(start_date, end_date):\n",
    "    \"\"\"Generate a random date between two dates.\"\"\"\n",
    "    delta = end_date - start_date\n",
    "    random_days = random.randint(0, delta.days)\n",
    "    return start_date + timedelta(days=random_days)"
   ]
  },
  {
   "cell_type": "markdown",
   "metadata": {},
   "source": [
    "5. Generate Purchases \n",
    "\n",
    "    Generate order id, order date, customer id, product id and product category\n"
   ]
  },
  {
   "cell_type": "code",
   "execution_count": 7,
   "metadata": {},
   "outputs": [],
   "source": [
    "def generate_purchases(customers, products, start_date, end_date, num_orders=5000):\n",
    "    \"\"\"Generate purchase records with 1 to 6 items per order and add Order ID.\"\"\"\n",
    "    purchases = []\n",
    "    order_id = 1  # Start order IDs from 1\n",
    "    \n",
    "    for _ in range(num_orders):\n",
    "        customer = random.choice(customers)\n",
    "        order_date = random_date(start_date, end_date)\n",
    "        \n",
    "        # Number of items in this order (1 to 6)\n",
    "        num_items = random.randint(1, 6)\n",
    "        \n",
    "        for _ in range(num_items):\n",
    "            product = random.choice(products)\n",
    "            category = product[\"Category\"]\n",
    "            \n",
    "            # Generate realistic purchase amounts based on category\n",
    "            if category == \"Electronics\":\n",
    "                amount = round(random.uniform(100, 500), 2)\n",
    "            elif category == \"Clothing\":\n",
    "                amount = round(random.uniform(50, 200), 2)\n",
    "            elif category == \"Home & Kitchen\":\n",
    "                amount = round(random.uniform(30, 300), 2)\n",
    "            elif category == \"Books\":\n",
    "                amount = round(random.uniform(10, 100), 2)\n",
    "            else:  # Sports\n",
    "                amount = round(random.uniform(80, 400), 2)\n",
    "            \n",
    "            # Add purchase record with Order ID\n",
    "            purchases.append({\n",
    "                \"Order ID\": f\"O{order_id}\",  # Unique Order ID for this order\n",
    "                \"Customer ID\": customer,\n",
    "                \"Product ID\": product[\"Product ID\"],\n",
    "                \"Product Category\": category,\n",
    "                \"Purchase Amount\": amount,\n",
    "                \"Purchase Date\": order_date.strftime(\"%Y-%m-%d\")\n",
    "            })\n",
    "        \n",
    "        # Increment Order ID for the next order\n",
    "        order_id += 1\n",
    "    \n",
    "    return purchases"
   ]
  },
  {
   "cell_type": "markdown",
   "metadata": {},
   "source": [
    "6. Save Dataset to CSV\n",
    " \n",
    "    Save the generated purchase records to a CSV file."
   ]
  },
  {
   "cell_type": "code",
   "execution_count": 8,
   "metadata": {},
   "outputs": [],
   "source": [
    "def save_to_csv(purchases, filename):\n",
    "    \"\"\"Save purchase records to a CSV file.\"\"\"\n",
    "    with open(filename, \"w\", newline=\"\") as csvfile:\n",
    "        fieldnames = [\"Order ID\", \"Customer ID\", \"Product ID\", \"Product Category\", \n",
    "                     \"Purchase Amount\", \"Purchase Date\"]\n",
    "        writer = csv.DictWriter(csvfile, fieldnames=fieldnames)\n",
    "        writer.writeheader()\n",
    "        writer.writerows(purchases)"
   ]
  },
  {
   "cell_type": "markdown",
   "metadata": {},
   "source": [
    "7. Main Function\n",
    "\n",
    "    Generate the dataset and save it to a CSV file."
   ]
  },
  {
   "cell_type": "code",
   "execution_count": 9,
   "metadata": {},
   "outputs": [
    {
     "name": "stdout",
     "output_type": "stream",
     "text": [
      "Dataset generated and saved to 'data/customer_purchases2.csv'.\n"
     ]
    }
   ],
   "source": [
    "def main():\n",
    "    # Generate base data\n",
    "    products = generate_products()\n",
    "    customers = generate_customers()\n",
    "    \n",
    "    # Date range for purchases (entire 2023)\n",
    "    start_date = datetime(2023, 1, 1)\n",
    "    end_date = datetime(2023, 12, 31)\n",
    "    \n",
    "    # Create data directory if needed\n",
    "    os.makedirs(\"data\", exist_ok=True)\n",
    "    \n",
    "    # Generate purchase records\n",
    "    purchases = generate_purchases(customers, products, start_date, end_date)\n",
    "    \n",
    "    # Save to CSV\n",
    "    save_to_csv(purchases, \"data/customer_purchases3.csv\")\n",
    "    print(\"Dataset generated and saved to 'data/customer_purchases3.csv'.\")\n"
   ]
  },
  {
   "cell_type": "markdown",
   "metadata": {},
   "source": [
    "8. Run the Script\n",
    "\n",
    "    Execute the main function to generate the dataset."
   ]
  },
  {
   "cell_type": "code",
   "execution_count": null,
   "metadata": {},
   "outputs": [],
   "source": [
    "if __name__ == \"__main__\":\n",
    "    main()"
   ]
  }
 ],
 "metadata": {
  "kernelspec": {
   "display_name": "Python 3",
   "language": "python",
   "name": "python3"
  },
  "language_info": {
   "codemirror_mode": {
    "name": "ipython",
    "version": 3
   },
   "file_extension": ".py",
   "mimetype": "text/x-python",
   "name": "python",
   "nbconvert_exporter": "python",
   "pygments_lexer": "ipython3",
   "version": "3.10.0"
  }
 },
 "nbformat": 4,
 "nbformat_minor": 2
}
